{
 "cells": [
  {
   "cell_type": "markdown",
   "metadata": {},
   "source": [
    "# Importando bibliotecas"
   ]
  },
  {
   "cell_type": "code",
   "execution_count": 1,
   "metadata": {},
   "outputs": [],
   "source": [
    "from selenium import webdriver\n",
    "from time import sleep\n",
    "\n",
    "from selenium.webdriver.common.by import By\n",
    "from selenium.webdriver.common.action_chains import ActionChains\n",
    "from selenium.webdriver.common.keys import Keys"
   ]
  },
  {
   "cell_type": "markdown",
   "metadata": {},
   "source": [
    "# Dicionários (json)"
   ]
  },
  {
   "cell_type": "code",
   "execution_count": 2,
   "metadata": {},
   "outputs": [],
   "source": [
    "# TODO: Mudar formato para facilitar o acesso às páginas.\n",
    "sites = {'Amazon': {'url': 'https://www.amazon.com.br/', 'elemento_pesquisa': '//*[@id=\"twotabsearchtextbox\"]'},\n",
    "         'Magazine Luiza': {'url': 'https://magazineluiza.com.br/', 'elemento_pesquisa': '//*[@id=\"input-search\"]'},\n",
    "         'Mercado Livre': {'url': 'https://www.mercadolivre.com.br/', 'elemento_pesquisa': '//*[@id=\"cb1-edit\"]'}\n",
    "         }"
   ]
  },
  {
   "cell_type": "code",
   "execution_count": 16,
   "metadata": {},
   "outputs": [
    {
     "data": {
      "text/plain": [
       "{'url': 'https://www.amazon.com.br/',\n",
       " 'elemento_pesquisa': '//*[@id=\"twotabsearchtextbox\"]'}"
      ]
     },
     "execution_count": 16,
     "metadata": {},
     "output_type": "execute_result"
    }
   ],
   "source": [
    "sites[list(sites.keys())[0]]"
   ]
  },
  {
   "cell_type": "markdown",
   "metadata": {},
   "source": [
    "# Funções"
   ]
  },
  {
   "cell_type": "code",
   "execution_count": 8,
   "metadata": {},
   "outputs": [],
   "source": [
    "def acesso_pagina(sites, indx):\n",
    "   print(sites[indx]) # driver.get(sites['url'][indx])\n",
    "\n",
    "def pesquisa_produto(sites, indx, produto):\n",
    "   # Clica na barra 'pesquisa' e digita o produto.\n",
    "   driver.find_element(By.XPATH, sites['elemento_pesquisa'][indx]).send_keys(produto)\n",
    "\n",
    "   # Aperta botão 'ENTER'.\n",
    "   ActionChains(driver).send_keys(Keys.ENTER).perform()"
   ]
  },
  {
   "cell_type": "markdown",
   "metadata": {},
   "source": [
    "# Arq. principal (main.py)"
   ]
  },
  {
   "cell_type": "code",
   "execution_count": 9,
   "metadata": {},
   "outputs": [
    {
     "ename": "KeyError",
     "evalue": "0",
     "output_type": "error",
     "traceback": [
      "\u001b[1;31m---------------------------------------------------------------------------\u001b[0m",
      "\u001b[1;31mKeyError\u001b[0m                                  Traceback (most recent call last)",
      "\u001b[1;32mc:\\Users\\Ariel\\Documents\\Repositorios\\Projetos-open\\buscador-precos\\testes.ipynb Cell 8\u001b[0m line \u001b[0;36m1\n\u001b[0;32m      <a href='vscode-notebook-cell:/c%3A/Users/Ariel/Documents/Repositorios/Projetos-open/buscador-precos/testes.ipynb#X10sZmlsZQ%3D%3D?line=5'>6</a>\u001b[0m driver \u001b[39m=\u001b[39m webdriver\u001b[39m.\u001b[39mFirefox(options\u001b[39m=\u001b[39moptions)\n\u001b[0;32m      <a href='vscode-notebook-cell:/c%3A/Users/Ariel/Documents/Repositorios/Projetos-open/buscador-precos/testes.ipynb#X10sZmlsZQ%3D%3D?line=7'>8</a>\u001b[0m \u001b[39mfor\u001b[39;00m indx \u001b[39min\u001b[39;00m \u001b[39mrange\u001b[39m(\u001b[39m0\u001b[39m, \u001b[39mlen\u001b[39m(sites\u001b[39m.\u001b[39mkeys())): \u001b[39m# NOTE: Talvez um 'WHILE'?\u001b[39;00m\n\u001b[0;32m      <a href='vscode-notebook-cell:/c%3A/Users/Ariel/Documents/Repositorios/Projetos-open/buscador-precos/testes.ipynb#X10sZmlsZQ%3D%3D?line=8'>9</a>\u001b[0m \n\u001b[0;32m     <a href='vscode-notebook-cell:/c%3A/Users/Ariel/Documents/Repositorios/Projetos-open/buscador-precos/testes.ipynb#X10sZmlsZQ%3D%3D?line=9'>10</a>\u001b[0m    \u001b[39m# Acessando página.\u001b[39;00m\n\u001b[1;32m---> <a href='vscode-notebook-cell:/c%3A/Users/Ariel/Documents/Repositorios/Projetos-open/buscador-precos/testes.ipynb#X10sZmlsZQ%3D%3D?line=10'>11</a>\u001b[0m    acesso_pagina(sites, indx)\n\u001b[0;32m     <a href='vscode-notebook-cell:/c%3A/Users/Ariel/Documents/Repositorios/Projetos-open/buscador-precos/testes.ipynb#X10sZmlsZQ%3D%3D?line=12'>13</a>\u001b[0m    \u001b[39m# Pesquisando produto.\u001b[39;00m\n\u001b[0;32m     <a href='vscode-notebook-cell:/c%3A/Users/Ariel/Documents/Repositorios/Projetos-open/buscador-precos/testes.ipynb#X10sZmlsZQ%3D%3D?line=13'>14</a>\u001b[0m    pesquisa_produto(sites, indx, produto)\n",
      "\u001b[1;32mc:\\Users\\Ariel\\Documents\\Repositorios\\Projetos-open\\buscador-precos\\testes.ipynb Cell 8\u001b[0m line \u001b[0;36m2\n\u001b[0;32m      <a href='vscode-notebook-cell:/c%3A/Users/Ariel/Documents/Repositorios/Projetos-open/buscador-precos/testes.ipynb#X10sZmlsZQ%3D%3D?line=0'>1</a>\u001b[0m \u001b[39mdef\u001b[39;00m \u001b[39macesso_pagina\u001b[39m(sites, indx):\n\u001b[1;32m----> <a href='vscode-notebook-cell:/c%3A/Users/Ariel/Documents/Repositorios/Projetos-open/buscador-precos/testes.ipynb#X10sZmlsZQ%3D%3D?line=1'>2</a>\u001b[0m    \u001b[39mprint\u001b[39m(sites[indx])\n",
      "\u001b[1;31mKeyError\u001b[0m: 0"
     ]
    }
   ],
   "source": [
    "# Definindo parâmetros.\n",
    "produto = input('Produto: ').lower()\n",
    "\n",
    "## Firefox\n",
    "options = webdriver.FirefoxOptions()\n",
    "driver = webdriver.Firefox(options=options)\n",
    "\n",
    "for indx in range(0, len(sites.keys())): # NOTE: Talvez um 'WHILE'?\n",
    "\n",
    "   # Acessando página.\n",
    "   acesso_pagina(sites, indx)\n",
    "\n",
    "   # Pesquisando produto.\n",
    "   pesquisa_produto(sites, indx, produto)\n",
    "\n",
    "   # Acessa próxima página (IF TRUE).\n",
    "   # proxima_pagina()\n",
    "\n",
    "   # NOTE: Extrair dados com BeautifulSoup.\n",
    "   # Extração dos dados.\n",
    "   # extrat_dados()\n",
    "\n",
    "sleep(5)\n",
    "\n",
    "driver.quit()"
   ]
  }
 ],
 "metadata": {
  "kernelspec": {
   "display_name": "buscador_produtos",
   "language": "python",
   "name": "python3"
  },
  "language_info": {
   "codemirror_mode": {
    "name": "ipython",
    "version": 3
   },
   "file_extension": ".py",
   "mimetype": "text/x-python",
   "name": "python",
   "nbconvert_exporter": "python",
   "pygments_lexer": "ipython3",
   "version": "3.9.18"
  },
  "orig_nbformat": 4
 },
 "nbformat": 4,
 "nbformat_minor": 2
}
