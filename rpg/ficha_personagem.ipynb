{
 "cells": [
  {
   "cell_type": "markdown",
   "metadata": {},
   "source": [
    "# Ficha Personagem"
   ]
  },
  {
   "cell_type": "markdown",
   "metadata": {},
   "source": [
    "<h4> TODO: </h4>\n",
    "<li> Criar arquivo '.py' com as funções de fichas. </li>"
   ]
  },
  {
   "cell_type": "code",
   "execution_count": 1,
   "metadata": {},
   "outputs": [],
   "source": [
    "personagem = {\n",
    "    'social': {\n",
    "        'nome': '',\n",
    "        'sobrenome': '',\n",
    "        'apelido': '',\n",
    "        'titulo': '',\n",
    "        'idade': 0\n",
    "        },\n",
    "\n",
    "    'fisico': {\n",
    "        'genero': '',\n",
    "        'raca': '',\n",
    "        'altura': 0.0,\n",
    "        'peso': 0.0\n",
    "        },\n",
    "\n",
    "    'habilidades': {\n",
    "        'classe': '',\n",
    "        'saude': 100,\n",
    "        'mana': 100,\n",
    "        'vitalidade': 0,\n",
    "        'magia': 0,\n",
    "        'forca': 0,\n",
    "        'destreza': 0,\n",
    "        'inteligencia': 0\n",
    "    }\n",
    "}\n",
    "\n",
    "\n",
    "pontos_classe = {\n",
    "    'guerreiro': {'vitalidade': 3, 'magia': 1, 'forca': 3, 'destreza': 2, 'inteligencia': 1},\n",
    "    'arqueiro': {'vitalidade': 2, 'magia': 1, 'forca': 2, 'destreza': 4, 'inteligencia': 2},\n",
    "    'mago': {'vitalidade': 2, 'magia': 1, 'forca': 1, 'destreza': 1, 'inteligencia': 3}\n",
    "}"
   ]
  }
 ],
 "metadata": {
  "kernelspec": {
   "display_name": "mapa_carreiras",
   "language": "python",
   "name": "python3"
  },
  "language_info": {
   "codemirror_mode": {
    "name": "ipython",
    "version": 3
   },
   "file_extension": ".py",
   "mimetype": "text/x-python",
   "name": "python",
   "nbconvert_exporter": "python",
   "pygments_lexer": "ipython3",
   "version": "3.8.16"
  }
 },
 "nbformat": 4,
 "nbformat_minor": 2
}
